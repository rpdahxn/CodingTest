{
 "cells": [
  {
   "cell_type": "markdown",
   "source": [
    "## 큰 수 A+B"
   ],
   "metadata": {}
  },
  {
   "cell_type": "code",
   "execution_count": 2,
   "source": [
    "A, B = map(int, input().split())  # 기억할 것 !\r\n",
    "\r\n",
    "print(A+B)"
   ],
   "outputs": [
    {
     "output_type": "stream",
     "name": "stdout",
     "text": [
      "27\n"
     ]
    }
   ],
   "metadata": {}
  },
  {
   "cell_type": "markdown",
   "source": [
    "한 줄에 정수 여러 개 입력받기 -> map(int, input().split())"
   ],
   "metadata": {}
  }
 ],
 "metadata": {
  "orig_nbformat": 4,
  "language_info": {
   "name": "python",
   "version": "3.9.6",
   "mimetype": "text/x-python",
   "codemirror_mode": {
    "name": "ipython",
    "version": 3
   },
   "pygments_lexer": "ipython3",
   "nbconvert_exporter": "python",
   "file_extension": ".py"
  },
  "kernelspec": {
   "name": "python3",
   "display_name": "Python 3.9.6 64-bit ('venv': venv)"
  },
  "interpreter": {
   "hash": "a2db2e5c419b001cf76eaf1c665eac4333ef227039080c13d98aa2c59dbed1da"
  }
 },
 "nbformat": 4,
 "nbformat_minor": 2
}